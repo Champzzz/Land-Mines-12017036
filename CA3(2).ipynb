{
 "cells": [
  {
   "cell_type": "code",
   "execution_count": 2,
   "id": "f577b9e1",
   "metadata": {},
   "outputs": [
    {
     "data": {
      "text/html": [
       "<div>\n",
       "<style scoped>\n",
       "    .dataframe tbody tr th:only-of-type {\n",
       "        vertical-align: middle;\n",
       "    }\n",
       "\n",
       "    .dataframe tbody tr th {\n",
       "        vertical-align: top;\n",
       "    }\n",
       "\n",
       "    .dataframe thead th {\n",
       "        text-align: right;\n",
       "    }\n",
       "</style>\n",
       "<table border=\"1\" class=\"dataframe\">\n",
       "  <thead>\n",
       "    <tr style=\"text-align: right;\">\n",
       "      <th></th>\n",
       "      <th>V</th>\n",
       "      <th>H</th>\n",
       "      <th>S</th>\n",
       "      <th>M</th>\n",
       "    </tr>\n",
       "  </thead>\n",
       "  <tbody>\n",
       "    <tr>\n",
       "      <th>0</th>\n",
       "      <td>0.338157</td>\n",
       "      <td>0.000000</td>\n",
       "      <td>0.0</td>\n",
       "      <td>1</td>\n",
       "    </tr>\n",
       "    <tr>\n",
       "      <th>1</th>\n",
       "      <td>0.320241</td>\n",
       "      <td>0.181818</td>\n",
       "      <td>0.0</td>\n",
       "      <td>1</td>\n",
       "    </tr>\n",
       "    <tr>\n",
       "      <th>2</th>\n",
       "      <td>0.287009</td>\n",
       "      <td>0.272727</td>\n",
       "      <td>0.0</td>\n",
       "      <td>1</td>\n",
       "    </tr>\n",
       "    <tr>\n",
       "      <th>3</th>\n",
       "      <td>0.256284</td>\n",
       "      <td>0.454545</td>\n",
       "      <td>0.0</td>\n",
       "      <td>1</td>\n",
       "    </tr>\n",
       "    <tr>\n",
       "      <th>4</th>\n",
       "      <td>0.262840</td>\n",
       "      <td>0.545455</td>\n",
       "      <td>0.0</td>\n",
       "      <td>1</td>\n",
       "    </tr>\n",
       "    <tr>\n",
       "      <th>...</th>\n",
       "      <td>...</td>\n",
       "      <td>...</td>\n",
       "      <td>...</td>\n",
       "      <td>...</td>\n",
       "    </tr>\n",
       "    <tr>\n",
       "      <th>333</th>\n",
       "      <td>0.323262</td>\n",
       "      <td>0.909091</td>\n",
       "      <td>0.4</td>\n",
       "      <td>5</td>\n",
       "    </tr>\n",
       "    <tr>\n",
       "      <th>334</th>\n",
       "      <td>0.444108</td>\n",
       "      <td>0.181818</td>\n",
       "      <td>1.0</td>\n",
       "      <td>5</td>\n",
       "    </tr>\n",
       "    <tr>\n",
       "      <th>335</th>\n",
       "      <td>0.353474</td>\n",
       "      <td>0.454545</td>\n",
       "      <td>1.0</td>\n",
       "      <td>5</td>\n",
       "    </tr>\n",
       "    <tr>\n",
       "      <th>336</th>\n",
       "      <td>0.362537</td>\n",
       "      <td>0.727273</td>\n",
       "      <td>1.0</td>\n",
       "      <td>5</td>\n",
       "    </tr>\n",
       "    <tr>\n",
       "      <th>337</th>\n",
       "      <td>0.314199</td>\n",
       "      <td>1.000000</td>\n",
       "      <td>1.0</td>\n",
       "      <td>5</td>\n",
       "    </tr>\n",
       "  </tbody>\n",
       "</table>\n",
       "<p>338 rows × 4 columns</p>\n",
       "</div>"
      ],
      "text/plain": [
       "            V         H    S  M\n",
       "0    0.338157  0.000000  0.0  1\n",
       "1    0.320241  0.181818  0.0  1\n",
       "2    0.287009  0.272727  0.0  1\n",
       "3    0.256284  0.454545  0.0  1\n",
       "4    0.262840  0.545455  0.0  1\n",
       "..        ...       ...  ... ..\n",
       "333  0.323262  0.909091  0.4  5\n",
       "334  0.444108  0.181818  1.0  5\n",
       "335  0.353474  0.454545  1.0  5\n",
       "336  0.362537  0.727273  1.0  5\n",
       "337  0.314199  1.000000  1.0  5\n",
       "\n",
       "[338 rows x 4 columns]"
      ]
     },
     "execution_count": 2,
     "metadata": {},
     "output_type": "execute_result"
    }
   ],
   "source": [
    "import pandas as pd\n",
    "from sklearn.preprocessing import LabelEncoder\n",
    "from sklearn.model_selection import train_test_split\n",
    "from sklearn.preprocessing import MinMaxScaler\n",
    "\n",
    "# Load the dataset\n",
    "df = pd.read_excel(\"Copy of Mine_Dataset.xls\")\n",
    "df"
   ]
  },
  {
   "cell_type": "code",
   "execution_count": 7,
   "id": "2cf67fd3",
   "metadata": {},
   "outputs": [],
   "source": [
    "# Separate the features (inputs) and target (output) variable\n",
    "X = df.drop(\"M\", axis=1)\n",
    "y = df[\"M\"]\n",
    "\n",
    "# Encode the categorical variable \"Soil Type (S)\" using LabelEncoder\n",
    "le = LabelEncoder()\n",
    "X[\"S\"] = le.fit_transform(X[\"S\"])\n",
    "\n",
    "# Split the dataset into training and testing sets\n",
    "X_train, X_test, y_train, y_test = train_test_split(X, y, test_size=0.2)\n",
    "\n",
    "# Scale the numerical features using MinMaxScaler\n",
    "scaler = MinMaxScaler()\n",
    "X_train_scaled = scaler.fit_transform(X_train)\n",
    "X_test_scaled = scaler.transform(X_test)"
   ]
  },
  {
   "cell_type": "code",
   "execution_count": 8,
   "id": "a709dcc6",
   "metadata": {},
   "outputs": [
    {
     "data": {
      "image/png": "[encoded data removed]",
      "text/plain": [
       "<Figure size 432x288 with 1 Axes>"
      ]
     },
     "metadata": {
      "needs_background": "light"
     },
     "output_type": "display_data"
    },
    {
     "data": {
      "image/png": "[encoded data removed]",
      "text/plain": [
       "<Figure size 432x288 with 1 Axes>"
      ]
     },
     "metadata": {
      "needs_background": "light"
     },
     "output_type": "display_data"
    },
    {
     "data": {
      "image/png": "[encoded data removed]",
      "text/plain": [
       "<Figure size 432x288 with 1 Axes>"
      ]
     },
     "metadata": {
      "needs_background": "light"
     },
     "output_type": "display_data"
    },
    {
     "data": {
      "image/png": "[encoded data removed]",
      "text/plain": [
       "<Figure size 432x288 with 1 Axes>"
      ]
     },
     "metadata": {
      "needs_background": "light"
     },
     "output_type": "display_data"
    }
   ],
   "source": [
    "import seaborn as sns\n",
    "import matplotlib.pyplot as plt\n",
    "\n",
    "\n",
    "sns.histplot(df['V'], kde=True)\n",
    "plt.show()\n",
    "\n",
    "sns.histplot(df['H'], kde=True)\n",
    "plt.show()\n",
    "\n",
    "sns.boxplot(x='M', y='V', data=df)\n",
    "plt.show()\n",
    "\n",
    "sns.boxplot(x='M', y='H', data=df)\n",
    "plt.show()"
   ]
  },
  {
   "cell_type": "code",
   "execution_count": 9,
   "id": "7db98c8a",
   "metadata": {},
   "outputs": [],
   "source": [
    "from sklearn.model_selection import train_test_split\n",
    "\n",
    "X_train, X_test, y_train, y_test = train_test_split(X, y, test_size=0.3, random_state=42)"
   ]
  },
  {
   "cell_type": "code",
   "execution_count": 13,
   "id": "c30a4ba7",
   "metadata": {},
   "outputs": [
    {
     "name": "stdout",
     "output_type": "stream",
     "text": [
      "Random Forest Classifier accuracy score:  0.5294117647058824\n",
      "Confusion matrix: \n",
      " [[17  0  0  0  4]\n",
      " [ 0 18  0  2  0]\n",
      " [ 2  2  6  2  6]\n",
      " [ 1  3  3  8  6]\n",
      " [ 4  1  7  5  5]]\n"
     ]
    }
   ],
   "source": [
    "from sklearn.metrics import accuracy_score, confusion_matrix\n",
    "\n",
    "from sklearn.ensemble import RandomForestClassifier\n",
    "rfc = RandomForestClassifier()\n",
    "rfc.fit(X_train, y_train)\n",
    "rfc_pred = rfc.predict(X_test)\n",
    "\n",
    "rfc.fit(X_train, y_train)\n",
    "y_pred = rfc.predict(X_test)\n",
    "\n",
    "rfc_accuracy = accuracy_score(y_test, y_pred)\n",
    "rfc_cm = confusion_matrix(y_test, y_pred)\n",
    "\n",
    "print(\"Random Forest Classifier accuracy score: \", rfc_accuracy)\n",
    "print(\"Confusion matrix: \\n\", rfc_cm)"
   ]
  },
  {
   "cell_type": "code",
   "execution_count": 18,
   "id": "976444f2",
   "metadata": {},
   "outputs": [
    {
     "name": "stdout",
     "output_type": "stream",
     "text": [
      "Support Vector Machine Classifier accuracy score:  0.3627450980392157\n",
      "Confusion matrix: \n",
      " [[13  1  3  3  1]\n",
      " [ 0 14  3  2  1]\n",
      " [ 4  2  7  1  4]\n",
      " [ 7  3  6  2  3]\n",
      " [ 7  0 10  4  1]]\n"
     ]
    }
   ],
   "source": [
    "from sklearn.svm import SVC\n",
    "svm = SVC()\n",
    "svm.fit(X_train, y_train)\n",
    "svm_pred = svm.predict(X_test)\n",
    "\n",
    "svm_accuracy = accuracy_score(y_test, y_pred)\n",
    "svm_cm = confusion_matrix(y_test, y_pred)\n",
    "\n",
    "print(\"Support Vector Machine Classifier accuracy score: \", svm_accuracy)\n",
    "print(\"Confusion matrix: \\n\", svm_cm)"
   ]
  },
  {
   "cell_type": "code",
   "execution_count": 19,
   "id": "4bf55ca7",
   "metadata": {},
   "outputs": [
    {
     "name": "stdout",
     "output_type": "stream",
     "text": [
      "K-Nearest Neighbors Classifier accuracy score:  0.3627450980392157\n",
      "Confusion matrix: \n",
      " [[13  1  3  3  1]\n",
      " [ 0 14  3  2  1]\n",
      " [ 4  2  7  1  4]\n",
      " [ 7  3  6  2  3]\n",
      " [ 7  0 10  4  1]]\n"
     ]
    }
   ],
   "source": [
    "from sklearn.neighbors import KNeighborsClassifier\n",
    "knn = KNeighborsClassifier()\n",
    "knn.fit(X_train, y_train)\n",
    "knn_pred = knn.predict(X_test)\n",
    "\n",
    "knn_accuracy = accuracy_score(y_test, y_pred)\n",
    "knn_cm = confusion_matrix(y_test, y_pred)\n",
    "\n",
    "print(\"K-Nearest Neighbors Classifier accuracy score: \", knn_accuracy)\n",
    "print(\"Confusion matrix: \\n\", knn_cm)"
   ]
  },
  {
   "cell_type": "code",
   "execution_count": null,
   "id": "b95d2d57",
   "metadata": {},
   "outputs": [],
   "source": []
  },
  {
   "cell_type": "code",
   "execution_count": 20,
   "id": "215b57d6",
   "metadata": {},
   "outputs": [
    {
     "name": "stdout",
     "output_type": "stream",
     "text": [
      "Cross-validation results (Random Forest):\n",
      "[0.41666667 0.54166667 0.66666667 0.5        0.45833333 0.5\n",
      " 0.52173913 0.47826087 0.52173913 0.52173913]\n",
      "Mean accuracy: 0.513\n",
      "Accuracy score (Random Forest): 0.480\n",
      "Confusion matrix (Random Forest):\n",
      "[[17  0  0  0  4]\n",
      " [ 0 18  0  2  0]\n",
      " [ 2  2  5  3  6]\n",
      " [ 2  3  3  6  7]\n",
      " [ 4  1  9  5  3]]\n"
     ]
    }
   ],
   "source": [
    "from sklearn.model_selection import KFold, cross_val_score\n",
    "\n",
    "kf = KFold(n_splits=10, shuffle=True)\n",
    "\n",
    "rf_clf = RandomForestClassifier(n_estimators=100, max_depth=10, random_state=42)\n",
    "\n",
    "# Perform cross-validation on the training set\n",
    "cv_results = cross_val_score(rf_clf, X_train, y_train, cv=kf, scoring='accuracy')\n",
    "\n",
    "# Print cross-validation results\n",
    "print(\"Cross-validation results (Random Forest):\")\n",
    "print(cv_results)\n",
    "print(\"Mean accuracy: {:.3f}\".format(cv_results.mean()))\n",
    "\n",
    "# Fit the Random Forest classifier on the training set\n",
    "rf_clf.fit(X_train, y_train)\n",
    "\n",
    "# Make predictions on the test set\n",
    "y_pred = rf_clf.predict(X_test)\n",
    "\n",
    "# Calculate accuracy score and confusion matrix on the test set\n",
    "accuracy = accuracy_score(y_test, y_pred)\n",
    "conf_mat = confusion_matrix(y_test, y_pred)\n",
    "\n",
    "# Print results\n",
    "print(\"Accuracy score (Random Forest): {:.3f}\".format(accuracy))\n",
    "print(\"Confusion matrix (Random Forest):\")\n",
    "print(conf_mat)"
   ]
  },
  {
   "cell_type": "code",
   "execution_count": 22,
   "id": "1b6236ae",
   "metadata": {},
   "outputs": [
    {
     "name": "stdout",
     "output_type": "stream",
     "text": [
      "SVM with Linear Kernel:\n",
      "Average accuracy score:  0.28442028985507245\n",
      "\n",
      "SVM with RBF Kernel:\n",
      "Average accuracy score:  0.2590579710144928\n",
      "\n",
      "SVM with Polynomial Kernel:\n",
      "Average accuracy score:  0.3478260869565217\n"
     ]
    }
   ],
   "source": [
    "svm_linear = SVC(kernel='linear', C=1)\n",
    "svm_linear_scores = cross_val_score(svm_linear, X_train, y_train, cv=kf)\n",
    "print(\"SVM with Linear Kernel:\")\n",
    "print(\"Average accuracy score: \", svm_linear_scores.mean())\n",
    "\n",
    "# SVM with rbf kernel\n",
    "svm_rbf = SVC(kernel='rbf', C=1, gamma='scale')\n",
    "svm_rbf_scores = cross_val_score(svm_rbf, X_train, y_train, cv=kf)\n",
    "print(\"\\nSVM with RBF Kernel:\")\n",
    "print(\"Average accuracy score: \", svm_rbf_scores.mean())\n",
    "\n",
    "# SVM with poly kernel\n",
    "svm_poly = SVC(kernel='poly', C=1, degree=3)\n",
    "svm_poly_scores = cross_val_score(svm_poly, X_train, y_train, cv=kf)\n",
    "print(\"\\nSVM with Polynomial Kernel:\")\n",
    "print(\"Average accuracy score: \", svm_poly_scores.mean())"
   ]
  },
  {
   "cell_type": "code",
   "execution_count": 23,
   "id": "eacb5a14",
   "metadata": {},
   "outputs": [
    {
     "name": "stdout",
     "output_type": "stream",
     "text": [
      "Best Parameters: {'n_neighbors': 3}\n",
      "Cross-validation Accuracy Score: 0.3648936170212766\n"
     ]
    }
   ],
   "source": [
    "from sklearn.model_selection import GridSearchCV\n",
    "\n",
    "# Define the parameter grid\n",
    "param_grid = {'n_neighbors': range(1, 20)}\n",
    "\n",
    "# Create the KNN classifier\n",
    "knn_clf = KNeighborsClassifier()\n",
    "\n",
    "# Perform cross-validation with GridSearchCV\n",
    "knn_cv = GridSearchCV(knn_clf, param_grid, cv=5)\n",
    "knn_cv.fit(X_train, y_train)\n",
    "\n",
    "# Print the best parameters and accuracy score\n",
    "print(\"Best Parameters:\", knn_cv.best_params_)\n",
    "print(\"Cross-validation Accuracy Score:\", knn_cv.best_score_)"
   ]
  },
  {
   "cell_type": "code",
   "execution_count": null,
   "id": "0bdad3e3",
   "metadata": {},
   "outputs": [],
   "source": []
  },
  {
   "cell_type": "code",
   "execution_count": null,
   "id": "b0ad16c1",
   "metadata": {},
   "outputs": [],
   "source": []
  },
  {
   "cell_type": "code",
   "execution_count": null,
   "id": "d4d4d364",
   "metadata": {},
   "outputs": [],
   "source": []
  },
  {
   "cell_type": "code",
   "execution_count": null,
   "id": "a58aee34",
   "metadata": {},
   "outputs": [],
   "source": []
  }
 ],
 "metadata": {
  "kernelspec": {
   "display_name": "Python 3",
   "language": "python",
   "name": "python3"
  },
  "language_info": {
   "codemirror_mode": {
    "name": "ipython",
    "version": 3
   },
   "file_extension": ".py",
   "mimetype": "text/x-python",
   "name": "python",
   "nbconvert_exporter": "python",
   "pygments_lexer": "ipython3",
   "version": "3.8.8"
  }
 },
 "nbformat": 4,
 "nbformat_minor": 5
}
